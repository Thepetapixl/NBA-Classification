{
 "cells": [
  {
   "cell_type": "code",
   "execution_count": 179,
   "metadata": {},
   "outputs": [],
   "source": [
    "from sklearn.svm import SVC\n",
    "from sklearn.metrics import accuracy_score\n",
    "from sklearn.model_selection import train_test_split, cross_val_score\n",
    "import pandas as pd\n",
    "import numpy as np\n",
    "\n",
    "nba = pd.read_csv('nba2021.csv')\n",
    "\n",
    "# Features Selected\n",
    "X = nba[[\"STL\", \"MP\", \"FG%\", \"3PA\", \"2P%\", \"3P\", \"eFG%\", \"BLK\", \"ORB\", \"DRB\", \"AST\"]]\n",
    "y = nba[\"Pos\"]\n",
    "\n",
    "# Split the dataset into train and test sets\n",
    "train_feature, test_feature, train_class, test_class = train_test_split(\n",
    "    X, y, test_size = 0.25) # 75% train, 25% test\n",
    "\n",
    "svm = SVC(kernel = 'linear')\n",
    "\n",
    "svm.fit(train_feature, train_class)\n",
    "\n",
    "prediction = svm.predict(test_feature)"
   ]
  },
  {
   "cell_type": "code",
   "execution_count": 180,
   "metadata": {},
   "outputs": [
    {
     "name": "stdout",
     "output_type": "stream",
     "text": [
      "Test set accuracy: 50.400%\n"
     ]
    }
   ],
   "source": [
    "print(\"Test set accuracy: {:.3f}%\".format(accuracy_score(test_class, prediction) * 100))"
   ]
  },
  {
   "cell_type": "code",
   "execution_count": 181,
   "metadata": {},
   "outputs": [
    {
     "name": "stdout",
     "output_type": "stream",
     "text": [
      "Predicted   C  PF  PG  SF  SG  All\n",
      "True                              \n",
      "C          18   3   0   0   0   21\n",
      "PF          9  10   1   2   3   25\n",
      "PG          0   3  18   0   9   30\n",
      "SF          0   8   1   1   8   18\n",
      "SG          1   2   8   4  16   31\n",
      "All        28  26  28   7  36  125\n"
     ]
    }
   ],
   "source": [
    "print(pd.crosstab(test_class, prediction, rownames=['True'], colnames=['Predicted'], margins = True))"
   ]
  },
  {
   "cell_type": "code",
   "execution_count": 182,
   "metadata": {},
   "outputs": [
    {
     "name": "stdout",
     "output_type": "stream",
     "text": [
      "Accuracy for each fold in Cross-validation:\n",
      "Fold 1: 58.00%\n",
      "Fold 2: 46.00%\n",
      "Fold 3: 62.00%\n",
      "Fold 4: 48.00%\n",
      "Fold 5: 56.00%\n",
      "Fold 6: 48.00%\n",
      "Fold 7: 42.00%\n",
      "Fold 8: 65.31%\n",
      "Fold 9: 59.18%\n",
      "Fold 10: 48.98%\n",
      "Average Accuracy across all folds: 53.347%\n"
     ]
    }
   ],
   "source": [
    "# Perform 10-fold stratified cross-validation\n",
    "cv_scores = cross_val_score(svm, X, y, cv = 10)\n",
    "print(\"Accuracy for each fold in Cross-validation:\")\n",
    "for i, score in enumerate(cv_scores, 1):\n",
    "    print(\"Fold {}: {:.2f}%\".format(i, score * 100))\n",
    "avg_accuracy = np.mean(cv_scores)\n",
    "print(\"Average Accuracy across all folds: {:.3f}%\".format(avg_accuracy * 100))"
   ]
  }
 ],
 "metadata": {
  "kernelspec": {
   "display_name": "Python 3",
   "language": "python",
   "name": "python3"
  },
  "language_info": {
   "codemirror_mode": {
    "name": "ipython",
    "version": 3
   },
   "file_extension": ".py",
   "mimetype": "text/x-python",
   "name": "python",
   "nbconvert_exporter": "python",
   "pygments_lexer": "ipython3",
   "version": "3.7.7"
  },
  "orig_nbformat": 4
 },
 "nbformat": 4,
 "nbformat_minor": 2
}
